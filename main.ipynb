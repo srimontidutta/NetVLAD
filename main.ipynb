{
 "cells": [
  {
   "cell_type": "code",
   "execution_count": 1,
   "metadata": {},
   "outputs": [
    {
     "name": "stderr",
     "output_type": "stream",
     "text": [
      "Downloading: \"https://download.pytorch.org/models/resnet18-f37072fd.pth\" to C:\\Users\\Srimonti/.cache\\torch\\hub\\checkpoints\\resnet18-f37072fd.pth\n"
     ]
    },
    {
     "data": {
      "application/vnd.jupyter.widget-view+json": {
       "model_id": "ee9212aa66694bcba4cc578f3e0c362d",
       "version_major": 2,
       "version_minor": 0
      },
      "text/plain": [
       "  0%|          | 0.00/44.7M [00:00<?, ?B/s]"
      ]
     },
     "metadata": {},
     "output_type": "display_data"
    },
    {
     "name": "stdout",
     "output_type": "stream",
     "text": [
      "[(0, 'a.jpg'), (1, 'b.jpg'), (2, 'c.jpg'), (3, 'd.jpg'), (4, 'e.jpg'), (5, 'f.jpg'), (6, 'g.jpg'), (7, 'h.jpg'), (8, 'i.jpg'), (9, 'j.jpg'), (10, 'k.jpg'), (11, 'l.jpg'), (12, '01.jpg'), (13, '02.jpg'), (14, '03.jpg'), (15, '04.jpg'), (16, '05.jpg'), (17, '06.jpg'), (18, '07.jpg'), (19, '08.jpg'), (20, '09.jpg'), (21, '10.jpg'), (22, '11.jpg'), (23, '12.jpg'), (24, '13.jpg'), (25, '14.jpg'), (26, '15.jpg'), (27, '16.jpg'), (28, '17.jpg'), (29, '18.jpg')]\n",
      "tensor([0, 0, 0, 0, 0, 0, 0, 0, 0, 0, 0, 0, 1, 1, 1, 1, 1, 1, 1, 1, 1, 1, 1, 1,\n",
      "        1, 1, 1, 1, 1, 1])\n"
     ]
    },
    {
     "data": {
      "image/png": "[encoded data removed]",
      "text/plain": [
       "<Figure size 432x288 with 1 Axes>"
      ]
     },
     "metadata": {
      "needs_background": "light"
     },
     "output_type": "display_data"
    }
   ],
   "source": [
    "import matplotlib.pyplot as plt\n",
    "import torch\n",
    "import torch.nn as nn\n",
    "import torchvision\n",
    "from torchvision import transforms\n",
    "from torchvision.models import resnet18\n",
    "import os.path\n",
    "from hard_triplet_loss import HardTripletLoss, _pairwise_distance\n",
    "from netvlad import EmbedNet\n",
    "from netvlad import NetVLAD\n",
    "\n",
    "\n",
    "class ImageFolderWithPaths(torchvision.datasets.ImageFolder):\n",
    "    def __getitem__(self, index):\n",
    "        # this is what ImageFolder normally returns\n",
    "        original_tuple = super(ImageFolderWithPaths, self).__getitem__(index)\n",
    "        # the image file path\n",
    "        name = os.path.split(self.imgs[index][0])[-1]\n",
    "        # make a new tuple that includes original and the path\n",
    "        tuple_with_path = (original_tuple + (name,))\n",
    "        return tuple_with_path\n",
    "\n",
    "\n",
    "# Discard layers at the end of base network\n",
    "encoder = resnet18(pretrained=True)\n",
    "base_model = nn.Sequential(\n",
    "    encoder.conv1,\n",
    "    encoder.bn1,\n",
    "    encoder.relu,\n",
    "    encoder.maxpool,\n",
    "    encoder.layer1,\n",
    "    encoder.layer2,\n",
    "    encoder.layer3,\n",
    "    encoder.layer4,\n",
    ")\n",
    "dim = list(base_model.parameters())[-1].shape[0]  # last channels (512)\n",
    "\n",
    "# Define model for embedding\n",
    "net_vlad = NetVLAD(num_clusters=32, dim=dim, alpha=1.0)\n",
    "# noinspection PyUnresolvedReferences\n",
    "model = EmbedNet(base_model, net_vlad).cuda()\n",
    "\n",
    "# Define loss\n",
    "# noinspection PyUnresolvedReferences\n",
    "criterion = HardTripletLoss(margin=0.1).cuda()\n",
    "\n",
    "preprocess = transforms.Compose([\n",
    "    transforms.Resize(128),\n",
    "    transforms.CenterCrop(128),\n",
    "    transforms.ToTensor(),\n",
    "    transforms.Normalize(\n",
    "        mean=[0.485, 0.456, 0.406],\n",
    "        std=[0.229, 0.224, 0.225]\n",
    "    )])\n",
    "\n",
    "train_dataset = ImageFolderWithPaths(\n",
    "        root='data/',\n",
    "        transform=preprocess\n",
    "    )\n",
    "train_loader = torch.utils.data.DataLoader(\n",
    "    train_dataset,\n",
    "    batch_size=32,\n",
    "    num_workers=0,\n",
    ")\n",
    "\n",
    "x, labels, fn = iter(train_loader).next()\n",
    "print(list(enumerate(fn)))\n",
    "x = x.cuda()\n",
    "labels = labels.long()\n",
    "output = model(x)\n",
    "\n",
    "print(labels)\n",
    "\n",
    "\n",
    "triplet_loss = criterion(output, labels)\n",
    "plt.imshow(_pairwise_distance(output).cpu().detach().numpy())\n",
    "plt.gca().set_xticks(list(range(30)))\n",
    "plt.gca().set_yticks(list(range(30)))\n",
    "\n",
    "plt.gca().set_xticklabels(fn, rotation='vertical')\n",
    "plt.gca().set_yticklabels(fn)\n",
    "\n",
    "plt.show()"
   ]
  },
  {
   "cell_type": "code",
   "execution_count": null,
   "metadata": {},
   "outputs": [],
   "source": []
  }
 ],
 "metadata": {
  "kernelspec": {
   "display_name": "Python 3",
   "language": "python",
   "name": "python3"
  },
  "language_info": {
   "codemirror_mode": {
    "name": "ipython",
    "version": 3
   },
   "file_extension": ".py",
   "mimetype": "text/x-python",
   "name": "python",
   "nbconvert_exporter": "python",
   "pygments_lexer": "ipython3",
   "version": "3.8.6rc1"
  }
 },
 "nbformat": 4,
 "nbformat_minor": 4
}
